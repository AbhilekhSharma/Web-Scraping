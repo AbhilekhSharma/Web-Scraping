{
  "nbformat": 4,
  "nbformat_minor": 0,
  "metadata": {
    "colab": {
      "name": "Web-Scraping for stack overlow",
      "provenance": []
    },
    "kernelspec": {
      "name": "python3",
      "display_name": "Python 3"
    },
    "language_info": {
      "name": "python"
    }
  },
  "cells": [
    {
      "cell_type": "code",
      "metadata": {
        "colab": {
          "base_uri": "https://localhost:8080/"
        },
        "id": "mGkGQMt_O1MK",
        "outputId": "6c2ebd59-8cf0-4b04-e380-9c640d984b94"
      },
      "source": [
        "!pip install pandas\n"
      ],
      "execution_count": null,
      "outputs": [
        {
          "output_type": "stream",
          "text": [
            "Requirement already satisfied: pandas in /usr/local/lib/python3.7/dist-packages (1.1.5)\n",
            "Requirement already satisfied: pytz>=2017.2 in /usr/local/lib/python3.7/dist-packages (from pandas) (2018.9)\n",
            "Requirement already satisfied: numpy>=1.15.4 in /usr/local/lib/python3.7/dist-packages (from pandas) (1.19.5)\n",
            "Requirement already satisfied: python-dateutil>=2.7.3 in /usr/local/lib/python3.7/dist-packages (from pandas) (2.8.1)\n",
            "Requirement already satisfied: six>=1.5 in /usr/local/lib/python3.7/dist-packages (from python-dateutil>=2.7.3->pandas) (1.15.0)\n"
          ],
          "name": "stdout"
        }
      ]
    },
    {
      "cell_type": "markdown",
      "metadata": {
        "id": "c3bjIbHpTW08"
      },
      "source": [
        "Developed a python script to scrape most voted questions from Stack Overflow using the requests library.\n",
        "Coded the script to convert questions into CSV file and avoided repetition of questions using the pandas library.\n",
        "Programmed it further to create a question bank for other languages."
      ]
    },
    {
      "cell_type": "code",
      "metadata": {
        "colab": {
          "base_uri": "https://localhost:8080/"
        },
        "id": "vEfrlrupQlpp",
        "outputId": "0084cc5d-70b6-4fd9-e73c-48e5e06702bf"
      },
      "source": [
        "!pip install requests-html"
      ],
      "execution_count": null,
      "outputs": [
        {
          "output_type": "stream",
          "text": [
            "Collecting requests-html\n",
            "  Downloading https://files.pythonhosted.org/packages/24/bc/a4380f09bab3a776182578ce6b2771e57259d0d4dbce178205779abdc347/requests_html-0.10.0-py3-none-any.whl\n",
            "Requirement already satisfied: requests in /usr/local/lib/python3.7/dist-packages (from requests-html) (2.23.0)\n",
            "Collecting w3lib\n",
            "  Downloading https://files.pythonhosted.org/packages/a3/59/b6b14521090e7f42669cafdb84b0ab89301a42f1f1a82fcf5856661ea3a7/w3lib-1.22.0-py2.py3-none-any.whl\n",
            "Collecting pyquery\n",
            "  Downloading https://files.pythonhosted.org/packages/58/0b/85d15e21f660a8ea68b1e0286168938857391f4ec9f6d204d91c9e013826/pyquery-1.4.3-py3-none-any.whl\n",
            "Collecting parse\n",
            "  Downloading https://files.pythonhosted.org/packages/89/a1/82ce536be577ba09d4dcee45db58423a180873ad38a2d014d26ab7b7cb8a/parse-1.19.0.tar.gz\n",
            "Requirement already satisfied: bs4 in /usr/local/lib/python3.7/dist-packages (from requests-html) (0.0.1)\n",
            "Collecting fake-useragent\n",
            "  Downloading https://files.pythonhosted.org/packages/d1/79/af647635d6968e2deb57a208d309f6069d31cb138066d7e821e575112a80/fake-useragent-0.1.11.tar.gz\n",
            "Collecting pyppeteer>=0.0.14\n",
            "\u001b[?25l  Downloading https://files.pythonhosted.org/packages/4a/05/ea3250282e46fda60df1f1d5246bb8cdc022abb89969c61a98ea28fd6b82/pyppeteer-0.2.5-py3-none-any.whl (87kB)\n",
            "\u001b[K     |████████████████████████████████| 92kB 7.6MB/s \n",
            "\u001b[?25hRequirement already satisfied: chardet<4,>=3.0.2 in /usr/local/lib/python3.7/dist-packages (from requests->requests-html) (3.0.4)\n",
            "Requirement already satisfied: certifi>=2017.4.17 in /usr/local/lib/python3.7/dist-packages (from requests->requests-html) (2021.5.30)\n",
            "Requirement already satisfied: urllib3!=1.25.0,!=1.25.1,<1.26,>=1.21.1 in /usr/local/lib/python3.7/dist-packages (from requests->requests-html) (1.24.3)\n",
            "Requirement already satisfied: idna<3,>=2.5 in /usr/local/lib/python3.7/dist-packages (from requests->requests-html) (2.10)\n",
            "Requirement already satisfied: six>=1.4.1 in /usr/local/lib/python3.7/dist-packages (from w3lib->requests-html) (1.15.0)\n",
            "Requirement already satisfied: lxml>=2.1 in /usr/local/lib/python3.7/dist-packages (from pyquery->requests-html) (4.2.6)\n",
            "Collecting cssselect>0.7.9\n",
            "  Downloading https://files.pythonhosted.org/packages/3b/d4/3b5c17f00cce85b9a1e6f91096e1cc8e8ede2e1be8e96b87ce1ed09e92c5/cssselect-1.1.0-py2.py3-none-any.whl\n",
            "Requirement already satisfied: beautifulsoup4 in /usr/local/lib/python3.7/dist-packages (from bs4->requests-html) (4.6.3)\n",
            "Collecting websockets<9.0,>=8.1\n",
            "\u001b[?25l  Downloading https://files.pythonhosted.org/packages/5a/0b/3ebc752392a368af14dd24ee041683416ac6d2463eead94b311b11e41c82/websockets-8.1-cp37-cp37m-manylinux2010_x86_64.whl (79kB)\n",
            "\u001b[K     |████████████████████████████████| 81kB 7.6MB/s \n",
            "\u001b[?25hCollecting importlib-metadata<3.0.0,>=2.1.1; python_version < \"3.8\"\n",
            "  Downloading https://files.pythonhosted.org/packages/98/b8/8ec57a8ef46fbe7f185318c7ff7df9a06c9df451d9a59a067bfa851bb828/importlib_metadata-2.1.1-py2.py3-none-any.whl\n",
            "Collecting tqdm<5.0.0,>=4.42.1\n",
            "\u001b[?25l  Downloading https://files.pythonhosted.org/packages/b4/20/9f1e974bb4761128fc0d0a32813eaa92827309b1756c4b892d28adfb4415/tqdm-4.61.1-py2.py3-none-any.whl (75kB)\n",
            "\u001b[K     |████████████████████████████████| 81kB 7.1MB/s \n",
            "\u001b[?25hRequirement already satisfied: appdirs<2.0.0,>=1.4.3 in /usr/local/lib/python3.7/dist-packages (from pyppeteer>=0.0.14->requests-html) (1.4.4)\n",
            "Collecting pyee<9.0.0,>=8.1.0\n",
            "  Downloading https://files.pythonhosted.org/packages/0d/0a/933b3931107e1da186963fd9bb9bceb9a613cff034cb0fb3b0c61003f357/pyee-8.1.0-py2.py3-none-any.whl\n",
            "Requirement already satisfied: zipp>=0.5 in /usr/local/lib/python3.7/dist-packages (from importlib-metadata<3.0.0,>=2.1.1; python_version < \"3.8\"->pyppeteer>=0.0.14->requests-html) (3.4.1)\n",
            "Building wheels for collected packages: parse, fake-useragent\n",
            "  Building wheel for parse (setup.py) ... \u001b[?25l\u001b[?25hdone\n",
            "  Created wheel for parse: filename=parse-1.19.0-cp37-none-any.whl size=24592 sha256=d81dd0a98af5d2f7f81865f47b58b72418164b17b4dc2177eb9ba2e791c71dd1\n",
            "  Stored in directory: /root/.cache/pip/wheels/c0/39/ea/e2fd678bd130953f5438470b8dfa529f00787e9b8b92b27467\n",
            "  Building wheel for fake-useragent (setup.py) ... \u001b[?25l\u001b[?25hdone\n",
            "  Created wheel for fake-useragent: filename=fake_useragent-0.1.11-cp37-none-any.whl size=13501 sha256=c14e1ace17cf52c9eca1a320d4ff0330ea4de08e3791b591ce95ce2e737ee6d3\n",
            "  Stored in directory: /root/.cache/pip/wheels/5e/63/09/d1dc15179f175357d3f5c00cbffbac37f9e8690d80545143ff\n",
            "Successfully built parse fake-useragent\n",
            "\u001b[31mERROR: pyppeteer 0.2.5 has requirement urllib3<2.0.0,>=1.25.8, but you'll have urllib3 1.24.3 which is incompatible.\u001b[0m\n",
            "Installing collected packages: w3lib, cssselect, pyquery, parse, fake-useragent, websockets, importlib-metadata, tqdm, pyee, pyppeteer, requests-html\n",
            "  Found existing installation: importlib-metadata 4.5.0\n",
            "    Uninstalling importlib-metadata-4.5.0:\n",
            "      Successfully uninstalled importlib-metadata-4.5.0\n",
            "  Found existing installation: tqdm 4.41.1\n",
            "    Uninstalling tqdm-4.41.1:\n",
            "      Successfully uninstalled tqdm-4.41.1\n",
            "Successfully installed cssselect-1.1.0 fake-useragent-0.1.11 importlib-metadata-2.1.1 parse-1.19.0 pyee-8.1.0 pyppeteer-0.2.5 pyquery-1.4.3 requests-html-0.10.0 tqdm-4.61.1 w3lib-1.22.0 websockets-8.1\n"
          ],
          "name": "stdout"
        }
      ]
    },
    {
      "cell_type": "code",
      "metadata": {
        "id": "bHW2M8b4PH0M"
      },
      "source": [
        "import requests\n",
        "from requests_html import HTML\n",
        "import time\n",
        "import pandas as pd"
      ],
      "execution_count": null,
      "outputs": []
    },
    {
      "cell_type": "code",
      "metadata": {
        "colab": {
          "base_uri": "https://localhost:8080/",
          "height": 35
        },
        "id": "Ta4cwj6kQkyR",
        "outputId": "65c4bcf5-5951-48c2-e828-0795bac7d1d6"
      },
      "source": [
        "base_url='https://stackoverflow.com/questions/tagged/'\n",
        "tag=\"python\"\n",
        "querry_filter=\"Votes\"\n",
        "url=f\"{base_url}{tag}?tab={querry_filter}\"\n",
        "url\n"
      ],
      "execution_count": null,
      "outputs": [
        {
          "output_type": "execute_result",
          "data": {
            "application/vnd.google.colaboratory.intrinsic+json": {
              "type": "string"
            },
            "text/plain": [
              "'https://stackoverflow.com/questions/tagged/python?tab=Votes'"
            ]
          },
          "metadata": {
            "tags": []
          },
          "execution_count": 9
        }
      ]
    },
    {
      "cell_type": "code",
      "metadata": {
        "id": "xr1O3L3-RKOL"
      },
      "source": [
        "r=requests.get(url)\n",
        "html_str=r.text"
      ],
      "execution_count": null,
      "outputs": []
    },
    {
      "cell_type": "code",
      "metadata": {
        "colab": {
          "base_uri": "https://localhost:8080/"
        },
        "id": "HxORL2G7RXTd",
        "outputId": "c381acec-692a-4043-9591-73034529314a"
      },
      "source": [
        "html=HTML(html=html_str)\n",
        "\n",
        "question_summaries=html.find(\".question-summary\")\n",
        "print(question_summaries)"
      ],
      "execution_count": null,
      "outputs": [
        {
          "output_type": "stream",
          "text": [
            "[<Element 'div' class=('question-summary',) id='question-summary-231767'>, <Element 'div' class=('question-summary',) id='question-summary-419163'>, <Element 'div' class=('question-summary',) id='question-summary-394809'>, <Element 'div' class=('question-summary',) id='question-summary-100003'>, <Element 'div' class=('question-summary',) id='question-summary-82831'>, <Element 'div' class=('question-summary',) id='question-summary-38987'>, <Element 'div' class=('question-summary',) id='question-summary-89228'>, <Element 'div' class=('question-summary',) id='question-summary-273192'>, <Element 'div' class=('question-summary',) id='question-summary-522563'>, <Element 'div' class=('question-summary',) id='question-summary-952914'>, <Element 'div' class=('question-summary',) id='question-summary-136097'>, <Element 'div' class=('question-summary',) id='question-summary-509211'>, <Element 'div' class=('question-summary',) id='question-summary-176918'>, <Element 'div' class=('question-summary',) id='question-summary-3437059'>, <Element 'div' class=('question-summary',) id='question-summary-3294889'>, <Element 'div' class=('question-summary',) id='question-summary-3207219'>, <Element 'div' class=('question-summary',) id='question-summary-613183'>, <Element 'div' class=('question-summary',) id='question-summary-423379'>, <Element 'div' class=('question-summary',) id='question-summary-415511'>, <Element 'div' class=('question-summary',) id='question-summary-53513'>, <Element 'div' class=('question-summary',) id='question-summary-6470428'>, <Element 'div' class=('question-summary',) id='question-summary-252703'>, <Element 'div' class=('question-summary',) id='question-summary-1436703'>, <Element 'div' class=('question-summary',) id='question-summary-1024847'>, <Element 'div' class=('question-summary',) id='question-summary-1720421'>, <Element 'div' class=('question-summary',) id='question-summary-123198'>, <Element 'div' class=('question-summary',) id='question-summary-510348'>, <Element 'div' class=('question-summary',) id='question-summary-739654'>, <Element 'div' class=('question-summary',) id='question-summary-606191'>, <Element 'div' class=('question-summary',) id='question-summary-986006'>, <Element 'div' class=('question-summary',) id='question-summary-1132941'>, <Element 'div' class=('question-summary',) id='question-summary-2612802'>, <Element 'div' class=('question-summary',) id='question-summary-16476924'>, <Element 'div' class=('question-summary',) id='question-summary-576169'>, <Element 'div' class=('question-summary',) id='question-summary-448271'>, <Element 'div' class=('question-summary',) id='question-summary-36901'>, <Element 'div' class=('question-summary',) id='question-summary-1602934'>, <Element 'div' class=('question-summary',) id='question-summary-4750806'>, <Element 'div' class=('question-summary',) id='question-summary-312443'>, <Element 'div' class=('question-summary',) id='question-summary-17071871'>, <Element 'div' class=('question-summary',) id='question-summary-2052390'>, <Element 'div' class=('question-summary',) id='question-summary-6996603'>, <Element 'div' class=('question-summary',) id='question-summary-332289'>, <Element 'div' class=('question-summary',) id='question-summary-5137497'>, <Element 'div' class=('question-summary',) id='question-summary-287871'>, <Element 'div' class=('question-summary',) id='question-summary-4906977'>, <Element 'div' class=('question-summary',) id='question-summary-379906'>, <Element 'div' class=('question-summary',) id='question-summary-466345'>, <Element 'div' class=('question-summary',) id='question-summary-30081275'>, <Element 'div' class=('question-summary',) id='question-summary-930397'>]\n"
          ],
          "name": "stdout"
        }
      ]
    },
    {
      "cell_type": "code",
      "metadata": {
        "colab": {
          "base_uri": "https://localhost:8080/",
          "height": 69
        },
        "id": "Sp6tRMHuRgRr",
        "outputId": "c8f3ab7c-0d52-4347-adf7-380dfcc6079e"
      },
      "source": [
        "question_summaries[0].text"
      ],
      "execution_count": null,
      "outputs": [
        {
          "output_type": "execute_result",
          "data": {
            "application/vnd.google.colaboratory.intrinsic+json": {
              "type": "string"
            },
            "text/plain": [
              "\"11219\\nvotes\\n40answers\\n2.5m views\\nWhat does the “yield” keyword do?\\nWhat is the use of the yield keyword in Python? What does it do? For example, I'm trying to understand this code1: def _get_child_candidates(self, distance, min_dist, max_dist): if self._leftchild ...\\npython iterator generator yield coroutine\\nasked Oct 23 '08 at 22:21\\nAlex. S.\\n127k1616 gold badges5050 silver badges6161 bronze badges\""
            ]
          },
          "metadata": {
            "tags": []
          },
          "execution_count": 13
        }
      ]
    },
    {
      "cell_type": "code",
      "metadata": {
        "id": "tfWTN9VNRkJO"
      },
      "source": [
        "columns=['votes','vote_title','num_ans','views','question','short_description','tags','date','user','user_details']"
      ],
      "execution_count": null,
      "outputs": []
    },
    {
      "cell_type": "code",
      "metadata": {
        "id": "JNWBpbNERpsO"
      },
      "source": [
        "# curr_row=list(question_summeries[0].text.split(\"\\n\"))\n",
        "# print(curr_row)\n",
        "\n",
        "# row_data=dict(zip(columns,curr_row))\n",
        "# row_data"
      ],
      "execution_count": null,
      "outputs": []
    },
    {
      "cell_type": "code",
      "metadata": {
        "id": "qSm1hrrBRxeX"
      },
      "source": [
        "key_names = ['question', 'votes', 'tags']\n",
        "classes_needed = ['.question-hyperlink', '.vote', '.tags']\n",
        "this_question_element = question_summaries[0]\n",
        "this_question_element.find('.question-hyperlink', first=True).text\n",
        "this_question_element.find('.vote', first=True).text.replace('\\nvotes', '')\n",
        "datas = []"
      ],
      "execution_count": null,
      "outputs": []
    },
    {
      "cell_type": "code",
      "metadata": {
        "id": "us8cm6mHSIMN"
      },
      "source": [
        "def clean_scraped_data(text, keyname=None):\n",
        "    if keyname == 'votes':\n",
        "        return text.replace('\\nvotes', '')\n",
        "    return text"
      ],
      "execution_count": null,
      "outputs": []
    },
    {
      "cell_type": "code",
      "metadata": {
        "id": "8rAXDvitSN_9"
      },
      "source": [
        "for q_el in question_summaries:\n",
        "    question_data = {}\n",
        "    for i, _class in enumerate(classes_needed):\n",
        "        sub_el = q_el.find(_class, first=True)\n",
        "        keyname = key_names[i]\n",
        "        question_data[keyname] = clean_scraped_data(sub_el.text, keyname=keyname)\n",
        "    datas.append(question_data)"
      ],
      "execution_count": null,
      "outputs": []
    },
    {
      "cell_type": "code",
      "metadata": {
        "colab": {
          "base_uri": "https://localhost:8080/"
        },
        "id": "-_c94hb9SsVr",
        "outputId": "64cee24c-6308-4c36-f836-68b124b10b00"
      },
      "source": [
        "datas[0]"
      ],
      "execution_count": null,
      "outputs": [
        {
          "output_type": "execute_result",
          "data": {
            "text/plain": [
              "{'question': 'What does the “yield” keyword do?',\n",
              " 'tags': 'python iterator generator yield coroutine',\n",
              " 'votes': '11219'}"
            ]
          },
          "metadata": {
            "tags": []
          },
          "execution_count": 22
        }
      ]
    },
    {
      "cell_type": "code",
      "metadata": {
        "id": "rvMfvJidSzk9"
      },
      "source": [
        "def parse_tagged_page(html):\n",
        "    question_summaries = html.find(\".question-summary\")\n",
        "    key_names = ['question', 'votes', 'tags']\n",
        "    classes_needed = ['.question-hyperlink', '.vote', '.tags']\n",
        "    datas = []\n",
        "    for q_el in question_summaries:\n",
        "        question_data = {}\n",
        "        for i, _class in enumerate(classes_needed):\n",
        "            sub_el = q_el.find(_class, first=True)\n",
        "            keyname = key_names[i]\n",
        "            question_data[keyname] = clean_scraped_data(sub_el.text, keyname=keyname)\n",
        "        datas.append(question_data)\n",
        "    return datas"
      ],
      "execution_count": null,
      "outputs": []
    },
    {
      "cell_type": "code",
      "metadata": {
        "id": "8e5HFRgbS6kh"
      },
      "source": [
        "def extract_data_from_url(url):\n",
        "    r = requests.get(url)\n",
        "    if r.status_code not in range(200, 299):\n",
        "        return []\n",
        "    html_str = r.text\n",
        "    html = HTML(html=html_str)\n",
        "    datas = parse_tagged_page(html)\n",
        "    return datas"
      ],
      "execution_count": null,
      "outputs": []
    },
    {
      "cell_type": "code",
      "metadata": {
        "id": "Lx8Y7-1ES8kW"
      },
      "source": [
        "def scrape_tag(tag = \"python\", query_filter = \"Votes\", max_pages=50, pagesize=25):\n",
        "    base_url = 'https://stackoverflow.com/questions/tagged/'\n",
        "    datas = []\n",
        "    for p in range(max_pages):\n",
        "        page_num = p + 1\n",
        "        url = f\"{base_url}{tag}?tab={query_filter}&page={page_num}&pagesize={pagesize}\"\n",
        "        datas += extract_data_from_url(url)\n",
        "        time.sleep(1.2)\n",
        "    return datas"
      ],
      "execution_count": null,
      "outputs": []
    },
    {
      "cell_type": "code",
      "metadata": {
        "id": "2RZk9MWaS92X"
      },
      "source": [
        "datas = scrape_tag(tag='python')"
      ],
      "execution_count": null,
      "outputs": []
    },
    {
      "cell_type": "code",
      "metadata": {
        "colab": {
          "base_uri": "https://localhost:8080/"
        },
        "id": "1vFp4FK4TDiE",
        "outputId": "c8e1844b-2f97-4098-ed76-8e7735d255d1"
      },
      "source": [
        "len(datas)"
      ],
      "execution_count": null,
      "outputs": [
        {
          "output_type": "execute_result",
          "data": {
            "text/plain": [
              "2500"
            ]
          },
          "metadata": {
            "tags": []
          },
          "execution_count": 28
        }
      ]
    },
    {
      "cell_type": "code",
      "metadata": {
        "colab": {
          "base_uri": "https://localhost:8080/",
          "height": 203
        },
        "id": "X93Zwm8xTnQp",
        "outputId": "473bf94a-806b-451b-aef0-4a8a1af69b7d"
      },
      "source": [
        "df = pd.DataFrame(datas)\n",
        "df.head()"
      ],
      "execution_count": null,
      "outputs": [
        {
          "output_type": "execute_result",
          "data": {
            "text/html": [
              "<div>\n",
              "<style scoped>\n",
              "    .dataframe tbody tr th:only-of-type {\n",
              "        vertical-align: middle;\n",
              "    }\n",
              "\n",
              "    .dataframe tbody tr th {\n",
              "        vertical-align: top;\n",
              "    }\n",
              "\n",
              "    .dataframe thead th {\n",
              "        text-align: right;\n",
              "    }\n",
              "</style>\n",
              "<table border=\"1\" class=\"dataframe\">\n",
              "  <thead>\n",
              "    <tr style=\"text-align: right;\">\n",
              "      <th></th>\n",
              "      <th>question</th>\n",
              "      <th>votes</th>\n",
              "      <th>tags</th>\n",
              "    </tr>\n",
              "  </thead>\n",
              "  <tbody>\n",
              "    <tr>\n",
              "      <th>0</th>\n",
              "      <td>What does the “yield” keyword do?</td>\n",
              "      <td>11219</td>\n",
              "      <td>python iterator generator yield coroutine</td>\n",
              "    </tr>\n",
              "    <tr>\n",
              "      <th>1</th>\n",
              "      <td>What does if __name__ == “__main__”: do?</td>\n",
              "      <td>6849</td>\n",
              "      <td>python namespaces main python-module idioms</td>\n",
              "    </tr>\n",
              "    <tr>\n",
              "      <th>2</th>\n",
              "      <td>Does Python have a ternary conditional operator?</td>\n",
              "      <td>6709</td>\n",
              "      <td>python operators ternary-operator conditional-...</td>\n",
              "    </tr>\n",
              "    <tr>\n",
              "      <th>3</th>\n",
              "      <td>What are metaclasses in Python?</td>\n",
              "      <td>6204</td>\n",
              "      <td>python oop metaclass python-class python-datam...</td>\n",
              "    </tr>\n",
              "    <tr>\n",
              "      <th>4</th>\n",
              "      <td>How do I check whether a file exists without e...</td>\n",
              "      <td>6176</td>\n",
              "      <td>python file file-exists</td>\n",
              "    </tr>\n",
              "  </tbody>\n",
              "</table>\n",
              "</div>"
            ],
            "text/plain": [
              "                                            question  ...                                               tags\n",
              "0                  What does the “yield” keyword do?  ...          python iterator generator yield coroutine\n",
              "1           What does if __name__ == “__main__”: do?  ...        python namespaces main python-module idioms\n",
              "2   Does Python have a ternary conditional operator?  ...  python operators ternary-operator conditional-...\n",
              "3                    What are metaclasses in Python?  ...  python oop metaclass python-class python-datam...\n",
              "4  How do I check whether a file exists without e...  ...                            python file file-exists\n",
              "\n",
              "[5 rows x 3 columns]"
            ]
          },
          "metadata": {
            "tags": []
          },
          "execution_count": 29
        }
      ]
    },
    {
      "cell_type": "code",
      "metadata": {
        "colab": {
          "base_uri": "https://localhost:8080/"
        },
        "id": "DxxVfU_KV2HZ",
        "outputId": "c0c1019b-285b-4ac4-b588-792337418b13"
      },
      "source": [
        "\n",
        "df.shape\n"
      ],
      "execution_count": null,
      "outputs": [
        {
          "output_type": "execute_result",
          "data": {
            "text/plain": [
              "(2500, 3)"
            ]
          },
          "metadata": {
            "tags": []
          },
          "execution_count": 35
        }
      ]
    },
    {
      "cell_type": "code",
      "metadata": {
        "id": "d13H4mJUVzB2"
      },
      "source": [
        "df.to_csv(\"python_stackoverflow.csv\", index=False)\n"
      ],
      "execution_count": null,
      "outputs": []
    }
  ]
}